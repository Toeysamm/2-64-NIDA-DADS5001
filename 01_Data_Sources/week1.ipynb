{
  "nbformat": 4,
  "nbformat_minor": 0,
  "metadata": {
    "colab": {
      "name": "week1.ipynb",
      "provenance": [],
      "include_colab_link": true
    },
    "kernelspec": {
      "name": "python3",
      "display_name": "Python 3"
    },
    "language_info": {
      "name": "python"
    }
  },
  "cells": [
    {
      "cell_type": "markdown",
      "metadata": {
        "id": "view-in-github",
        "colab_type": "text"
      },
      "source": [
        "<a href=\"https://colab.research.google.com/github/Toeysamm/2-64-NIDA-DADS5001/blob/main/01_Data_Sources/week1.ipynb\" target=\"_parent\"><img src=\"https://colab.research.google.com/assets/colab-badge.svg\" alt=\"Open In Colab\"/></a>"
      ]
    },
    {
      "cell_type": "markdown",
      "source": [
        "# 1. Youtube"
      ],
      "metadata": {
        "id": "sD8ky2n3mkQQ"
      }
    },
    {
      "cell_type": "code",
      "source": [
        "!pip install pytchat #https://github.com/taizan-hokuto/pytchat/wiki"
      ],
      "metadata": {
        "id": "Pgo6b68WmFIJ"
      },
      "execution_count": null,
      "outputs": []
    },
    {
      "cell_type": "code",
      "execution_count": null,
      "metadata": {
        "id": "pgCSzTNYkmqi",
        "colab": {
          "base_uri": "https://localhost:8080/"
        },
        "outputId": "8c1d250d-117f-4bfd-bb90-7bf671500dd5"
      },
      "outputs": [
        {
          "output_type": "stream",
          "name": "stdout",
          "text": [
            "2021-08-14 01:59:36 [วิศวะ ชูชื่น]- 1\n",
            "2021-08-14 01:59:45 [Thanachot Saengvimarn]- 3\n",
            "2021-08-14 01:59:50 [Montip Auntum]- สวัสดีค่ะ\n",
            "2021-08-14 02:00:08 [Supavadee Dishayabou]- สวัสดีค่ะ\n"
          ]
        }
      ],
      "source": [
        "import pytchat\n",
        "chat = pytchat.create(video_id=\"oTSzxLvoEJE\")\n",
        "\n",
        "while chat.is_alive():\n",
        "  for c in chat.get().sync_items():\n",
        "    print(f\"{c.datetime} [{c.author.name}]- {c.message}\")"
      ]
    },
    {
      "cell_type": "code",
      "source": [
        "import pytchat\n",
        "import pandas as pd #pd คือชื่อเล่นที่เราตั้งให้ libery pandas\n",
        "chat = pytchat.create(video_id=\"oTSzxLvoEJE\")\n",
        "\n",
        "dList = []\n",
        "aList = []\n",
        "mList = []\n",
        "\n",
        "i = 0\n",
        "while chat.is_alive():\n",
        "  for c in chat.get().sync_items():\n",
        "    print(f\"{c.datetime} [{c.author.name}]- {c.message}\")\n",
        "    dList.append(c.datetime)\n",
        "    aList.append(c.author.name)\n",
        "    mList.append(c.message)\n",
        "    i = i+1\n",
        "    if i == 5:\n",
        "      chat.terminate()\n",
        "      break\n",
        "\n",
        "# dictionary of lists \n",
        "dict = {'dateTime': dList, 'authorName': aList, 'Message': mList}\n",
        "\n",
        "df = pd.DataFrame(dict)\n",
        "df.head()\n",
        "\n",
        "from google.colab import files\n",
        "df.to_csv(\"data.csv\", encoding=\"utf_8_sig\", index=False) #cp874, #TIS-620\n",
        "files.download(\"data.csv\")"
      ],
      "metadata": {
        "colab": {
          "base_uri": "https://localhost:8080/",
          "height": 104
        },
        "id": "vsr1OM129uRq",
        "outputId": "2265ea48-4256-4d43-9162-acbbc781ce70"
      },
      "execution_count": null,
      "outputs": [
        {
          "output_type": "stream",
          "name": "stdout",
          "text": [
            "2021-08-14 01:59:36 [วิศวะ ชูชื่น]- 1\n",
            "2021-08-14 01:59:45 [Thanachot Saengvimarn]- 3\n",
            "2021-08-14 01:59:50 [Montip Auntum]- สวัสดีค่ะ\n",
            "2021-08-14 02:00:08 [Supavadee Dishayabou]- สวัสดีค่ะ\n",
            "2021-08-14 02:00:39 [สมมาตร สงคราม]- สวัสดีค่ะ\n"
          ]
        },
        {
          "output_type": "display_data",
          "data": {
            "application/javascript": [
              "\n",
              "    async function download(id, filename, size) {\n",
              "      if (!google.colab.kernel.accessAllowed) {\n",
              "        return;\n",
              "      }\n",
              "      const div = document.createElement('div');\n",
              "      const label = document.createElement('label');\n",
              "      label.textContent = `Downloading \"${filename}\": `;\n",
              "      div.appendChild(label);\n",
              "      const progress = document.createElement('progress');\n",
              "      progress.max = size;\n",
              "      div.appendChild(progress);\n",
              "      document.body.appendChild(div);\n",
              "\n",
              "      const buffers = [];\n",
              "      let downloaded = 0;\n",
              "\n",
              "      const channel = await google.colab.kernel.comms.open(id);\n",
              "      // Send a message to notify the kernel that we're ready.\n",
              "      channel.send({})\n",
              "\n",
              "      for await (const message of channel.messages) {\n",
              "        // Send a message to notify the kernel that we're ready.\n",
              "        channel.send({})\n",
              "        if (message.buffers) {\n",
              "          for (const buffer of message.buffers) {\n",
              "            buffers.push(buffer);\n",
              "            downloaded += buffer.byteLength;\n",
              "            progress.value = downloaded;\n",
              "          }\n",
              "        }\n",
              "      }\n",
              "      const blob = new Blob(buffers, {type: 'application/binary'});\n",
              "      const a = document.createElement('a');\n",
              "      a.href = window.URL.createObjectURL(blob);\n",
              "      a.download = filename;\n",
              "      div.appendChild(a);\n",
              "      a.click();\n",
              "      div.remove();\n",
              "    }\n",
              "  "
            ],
            "text/plain": [
              "<IPython.core.display.Javascript object>"
            ]
          },
          "metadata": {}
        },
        {
          "output_type": "display_data",
          "data": {
            "application/javascript": [
              "download(\"download_5ca6250a-1598-4e2f-ad29-6d1364a86c72\", \"data.csv\", 349)"
            ],
            "text/plain": [
              "<IPython.core.display.Javascript object>"
            ]
          },
          "metadata": {}
        }
      ]
    },
    {
      "cell_type": "markdown",
      "source": [
        "# 2. Twitter"
      ],
      "metadata": {
        "id": "-Is6zOw5n0n_"
      }
    },
    {
      "cell_type": "code",
      "source": [
        "!pip install tweepy #https://www.tweepy.org/"
      ],
      "metadata": {
        "id": "n0a9S2EXos5J"
      },
      "execution_count": null,
      "outputs": []
    },
    {
      "cell_type": "code",
      "source": [
        "from getpass import getpass\n",
        "consumer_key = getpass('Enter the consumer_key: ')\n",
        "consumer_secret = getpass('Enter the consumer_secret: ')\n",
        "access_token = getpass('Enter the access_token: ')\n",
        "access_token_secret = getpass('Enter the access_token_secret: ')"
      ],
      "metadata": {
        "id": "u9zghkeYEZ2D",
        "colab": {
          "base_uri": "https://localhost:8080/"
        },
        "outputId": "e2539a65-982c-4a70-d7ce-d4e10151c307"
      },
      "execution_count": null,
      "outputs": [
        {
          "name": "stdout",
          "output_type": "stream",
          "text": [
            "Enter the consumer_key: ··········\n",
            "Enter the consumer_secret: ··········\n",
            "Enter the access_token: ··········\n",
            "Enter the access_token_secret: ··········\n"
          ]
        }
      ]
    },
    {
      "cell_type": "markdown",
      "source": [
        "### Streaming\n",
        "### Idea project: monitor ดูว่าเวลา คุณ kim property live แล้ว ราคา crypto ขึ้น/ลง สวนทางกับที่แกพูดแค่ไหน"
      ],
      "metadata": {
        "id": "vFj8KMfRFT4C"
      }
    },
    {
      "cell_type": "code",
      "source": [
        "import tweepy\n",
        "from tweepy import Stream\n",
        "from tweepy import OAuthHandler\n",
        "from tweepy.streaming import StreamListener\n",
        "\n",
        "class listener(StreamListener):\n",
        "\n",
        "    def on_data(self, data):\n",
        "        print (data.encode().decode('unicode_escape'))\n",
        "        return True\n",
        "\n",
        "    def on_error(self, status):\n",
        "        print (status)\n",
        "\n",
        "auth = tweepy.OAuthHandler(consumer_key, consumer_secret)\n",
        "auth.set_access_token(access_token, access_token_secret)\n",
        "twitterStream = Stream(auth, listener())\n",
        "twitterStream.filter(track=[\"elonmusk\"])"
      ],
      "metadata": {
        "id": "MbCNsaJFnz6I"
      },
      "execution_count": null,
      "outputs": []
    },
    {
      "cell_type": "markdown",
      "source": [
        "### Setup key"
      ],
      "metadata": {
        "id": "yHyQTyfiFjML"
      }
    },
    {
      "cell_type": "code",
      "source": [
        "import tweepy\n",
        "\n",
        "auth = tweepy.OAuthHandler(consumer_key, consumer_secret)\n",
        "auth.set_access_token(access_token, access_token_secret)\n",
        "\n",
        "api = tweepy.API(auth)"
      ],
      "metadata": {
        "id": "1YA_65_hFDbz"
      },
      "execution_count": null,
      "outputs": []
    },
    {
      "cell_type": "markdown",
      "source": [
        "### User home timeline"
      ],
      "metadata": {
        "id": "cRvXO7DfFXtK"
      }
    },
    {
      "cell_type": "code",
      "source": [
        "public_tweets = api.home_timeline()\n",
        "for tweet in public_tweets:\n",
        "    print(tweet.text)\n",
        "    print(\"---\")"
      ],
      "metadata": {
        "id": "a_Rq4gkpqCu4"
      },
      "execution_count": null,
      "outputs": []
    },
    {
      "cell_type": "markdown",
      "source": [
        "### Save data to file"
      ],
      "metadata": {
        "id": "qEpJQsk6FoTE"
      }
    },
    {
      "cell_type": "code",
      "source": [
        "import pandas as pd\n",
        "dList = []\n",
        "aList = []\n",
        "mList = []\n",
        "userID = \"InsomPoramin\"\n",
        "user = api.get_user(userID)\n",
        "\n",
        "tweets = api.user_timeline(screen_name=userID, \n",
        "                           # 200 is the maximum allowed count\n",
        "                           count=200,\n",
        "                           include_rts = False,\n",
        "                           # Necessary to keep full_text \n",
        "                           # otherwise only the first 140 words are extracted\n",
        "                           tweet_mode = 'extended'\n",
        "                           )\n",
        "\n",
        "for info in tweets[:3]:\n",
        "    print(\"ID: {}\".format(info.id))\n",
        "    print(info.created_at)\n",
        "    print(info.full_text)\n",
        "    print(\"\\n\")\n",
        "    dList.append(info.id)\n",
        "    aList.append(info.created_at)\n",
        "    mList.append(info.full_text.encode().decode('unicode_escape'))\n",
        "\n",
        "dict = {'id': dList, 'time': aList, 'text': mList}\n",
        "\n",
        "df = pd.DataFrame(dict)\n",
        "df.head()\n",
        "\n",
        "from google.colab import files\n",
        "df.to_csv(\"data.csv\", encoding=\"ISO-8859-1\", index=False)\n",
        "files.download(\"data.csv\")\n"
      ],
      "metadata": {
        "colab": {
          "base_uri": "https://localhost:8080/",
          "height": 277
        },
        "id": "AxBMi_5GsGGI",
        "outputId": "59a51d83-4567-4218-ccaf-3487772d30e1"
      },
      "execution_count": null,
      "outputs": [
        {
          "output_type": "stream",
          "name": "stdout",
          "text": [
            "ID: 1478981743205965826\n",
            "2022-01-06 06:48:20\n",
            "@Queue253629 ไม่ครับ\n",
            "\n",
            "\n",
            "ID: 1478981364464508934\n",
            "2022-01-06 06:46:50\n",
            "🔴ต่อด้วยเรื่อง NFT https://t.co/Ur1wqSqPkR\n",
            "\n",
            "\n",
            "ID: 1478980474772996096\n",
            "2022-01-06 06:43:17\n",
            "@TonHor @tan_twtt คุณอย่าจุดประเด็น\n",
            "\n",
            "\n"
          ]
        },
        {
          "output_type": "display_data",
          "data": {
            "application/javascript": [
              "\n",
              "    async function download(id, filename, size) {\n",
              "      if (!google.colab.kernel.accessAllowed) {\n",
              "        return;\n",
              "      }\n",
              "      const div = document.createElement('div');\n",
              "      const label = document.createElement('label');\n",
              "      label.textContent = `Downloading \"${filename}\": `;\n",
              "      div.appendChild(label);\n",
              "      const progress = document.createElement('progress');\n",
              "      progress.max = size;\n",
              "      div.appendChild(progress);\n",
              "      document.body.appendChild(div);\n",
              "\n",
              "      const buffers = [];\n",
              "      let downloaded = 0;\n",
              "\n",
              "      const channel = await google.colab.kernel.comms.open(id);\n",
              "      // Send a message to notify the kernel that we're ready.\n",
              "      channel.send({})\n",
              "\n",
              "      for await (const message of channel.messages) {\n",
              "        // Send a message to notify the kernel that we're ready.\n",
              "        channel.send({})\n",
              "        if (message.buffers) {\n",
              "          for (const buffer of message.buffers) {\n",
              "            buffers.push(buffer);\n",
              "            downloaded += buffer.byteLength;\n",
              "            progress.value = downloaded;\n",
              "          }\n",
              "        }\n",
              "      }\n",
              "      const blob = new Blob(buffers, {type: 'application/binary'});\n",
              "      const a = document.createElement('a');\n",
              "      a.href = window.URL.createObjectURL(blob);\n",
              "      a.download = filename;\n",
              "      div.appendChild(a);\n",
              "      a.click();\n",
              "      div.remove();\n",
              "    }\n",
              "  "
            ],
            "text/plain": [
              "<IPython.core.display.Javascript object>"
            ]
          },
          "metadata": {}
        },
        {
          "output_type": "display_data",
          "data": {
            "application/javascript": [
              "download(\"download_d9ede120-d2bf-4ccd-84fb-1ec397280ae6\", \"data.csv\", 310)"
            ],
            "text/plain": [
              "<IPython.core.display.Javascript object>"
            ]
          },
          "metadata": {}
        }
      ]
    },
    {
      "cell_type": "markdown",
      "source": [
        "### Web scraping"
      ],
      "metadata": {
        "id": "TKHf6gy-PYnb"
      }
    },
    {
      "cell_type": "code",
      "source": [
        "import requests #connect url\n",
        "from bs4 import BeautifulSoup #https://www.crummy.com/software/BeautifulSoup/bs4/doc/\n",
        "\n",
        "url = requests.get('https://www.blognone.com/node/109731')\n",
        "#print(\"url = \",url)\n",
        "\n",
        "soup = BeautifulSoup(url.content, 'html.parser')\n",
        "#print(\"soup = \",soup)\n",
        "\n",
        "#data = soup.find(itemprop='name')\n",
        "#print(data)\n",
        "\n",
        "####\n",
        "data = ''\n",
        "idx = 1\n",
        "for i in soup.find_all(\"div\", {\"class\": \"field-item even\"}):\n",
        "  output = i.find(\"p\")\n",
        "  #print(type(output))\n",
        "  if output != None:\n",
        "    print(idx, \" = \", output.text)\n",
        "    idx = idx + 1"
      ],
      "metadata": {
        "colab": {
          "base_uri": "https://localhost:8080/"
        },
        "id": "TfnV1SYjPbEL",
        "outputId": "4d0149eb-66fb-4d4f-8188-14c8aecb807a"
      },
      "execution_count": null,
      "outputs": [
        {
          "output_type": "stream",
          "name": "stdout",
          "text": [
            "1  =  ช่วงนี้อาจมีหลายคนพูดว่ารู้อะไรไม่สู้รู้งี้ โดยราคา Bitcoin ล่าสุด ได้ซื้อขายกันสูงกว่า 7,000 ดอลลาร์ เป็นที่เรียบร้อยแล้ว ตั้งแต่เมื่อวานนี้ (11 พฤษภาคม) ซึ่งเป็นราคาสูงสุดในรอบ 8 เดือน และราคาปรับขึ้นกว่า 22% ในช่วงสัปดาห์ที่ผ่านมา ราคาล่าสุดตอนนี้อยู่ราว 7,300 ดอลลาร์\n",
            "2  =  โดนใครปั่น เหมือนไม่มีข่าวดีอะไรเลย\n",
            "3  =  ปั่นน่ะปั่นแน่ครับ ช่วงนี้ดูเหมือนพวกแฮกเกอร์ทั้งหลายเองก็คึกคัก กระหน่ำโจมตี รวมทั้งแฮกเงินคลิปโตบ่อยจนผิดสังเกตุ น่าจะเป็นการเก็บไว้เพื่อรอขายในช่วงราคาขึ้นสุดทำกำไร คงจะมีข่าววงในอะไรซักอย่างที่เราไม่รู้ได้น่ะครับ\n",
            "4  =  ช่วงที่มีข่าวแรงๆ เรื่อง USDT มีการทยอยขนเงินจาก Bitfinex กับ Binance (ขาย BNB ทิ้ง) ไปปั่นบน Coinbase ครับ\n",
            "5  =  ขึ้นเงียบๆนี่ขึ้นจริงนะผมว่า\n",
            "6  =  มีประชาชนในบางประเทศตอนนี้ อยู่ได้ด้วย Coin เพราะเศรษฐกิจประเทศพัง สกุลเงินหลักไม่มีค่า ดันกลายเป็นว่า คนที่รอด คือคนที่ถือ Coin ซะงั้น\n"
          ]
        }
      ]
    }
  ]
}